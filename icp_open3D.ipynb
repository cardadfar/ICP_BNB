{
 "cells": [
  {
   "cell_type": "code",
   "execution_count": 37,
   "metadata": {},
   "outputs": [],
   "source": [
    "import numpy as np\n",
    "import cvxpy as cp\n",
    "import heapdict\n",
    "from sklearn.neighbors import NearestNeighbors\n",
    "import matplotlib.pyplot as plt\n",
    "from mpl_toolkits.mplot3d import axes3d, Axes3D\n",
    "import time\n",
    "\n",
    "import open3d as o3d\n",
    "import copy"
   ]
  },
  {
   "cell_type": "code",
   "execution_count": 38,
   "metadata": {},
   "outputs": [],
   "source": [
    "def pc_to_np(open3d_data):\n",
    "    return np.asarray(open3d_data.points)\n",
    "\n",
    "def np_to_pc(np_data):\n",
    "    pcd = o3d.geometry.PointCloud()\n",
    "    pcd.points = o3d.utility.Vector3dVector(np_data)\n",
    "    return pcd"
   ]
  },
  {
   "cell_type": "code",
   "execution_count": 43,
   "metadata": {},
   "outputs": [],
   "source": [
    "def icp(refA, refB, T_init):\n",
    "    source = o3d.io.read_point_cloud(refA, format='xyz')\n",
    "    target = o3d.io.read_point_cloud(refB, format='xyz')\n",
    "    \n",
    "    threshold = 0.8\n",
    "    \n",
    "    print(\"Initial alignment\")\n",
    "    evaluation = o3d.registration.evaluate_registration(source, target, threshold, T_init)\n",
    "    print(evaluation)\n",
    "\n",
    "    print(\"Apply point-to-point ICP\")\n",
    "    reg_p2p = o3d.registration.registration_icp(source, target, threshold, T_init, \n",
    "                                                o3d.registration.TransformationEstimationPointToPoint())\n",
    "    print(reg_p2p)\n",
    "    print(\"Transformation is:\")\n",
    "    print(reg_p2p.transformation)\n",
    "    print(\"\")\n",
    "    \n",
    "    return reg_p2p"
   ]
  },
  {
   "cell_type": "code",
   "execution_count": 44,
   "metadata": {},
   "outputs": [],
   "source": [
    "def loadPointCloud(filename):\n",
    "    pcloud = np.loadtxt(filename);\n",
    "    return pcloud;"
   ]
  },
  {
   "cell_type": "code",
   "execution_count": 45,
   "metadata": {},
   "outputs": [],
   "source": [
    "def transform(B,T):\n",
    "    Bh = np.ones((4,B.shape[0]))\n",
    "    Bh[:3,:] = np.copy(B.T)\n",
    "    Bh = Bh.T\n",
    "    Bh = Bh @ T\n",
    "\n",
    "    Bh[:,0] /= Bh[:,3]\n",
    "    Bh[:,1] /= Bh[:,3]\n",
    "    Bh[:,2] /= Bh[:,3]\n",
    "    Bh[:,3] /= Bh[:,3]\n",
    "    \n",
    "    return Bh[:,:3]\n",
    "\n",
    "def compute_dist(A,B,T):\n",
    "    Bt = transform(B,T)\n",
    "    N = Bt.shape[0]\n",
    "    \n",
    "    neigh = NearestNeighbors(n_neighbors=1)\n",
    "    neigh.fit(A)\n",
    "    distances, indices = neigh.kneighbors(Bt, return_distance=True)\n",
    "    return distances.ravel(), indices.ravel()"
   ]
  },
  {
   "cell_type": "code",
   "execution_count": 46,
   "metadata": {},
   "outputs": [
    {
     "name": "stdout",
     "output_type": "stream",
     "text": [
      "Initial alignment\n",
      "registration::RegistrationResult with fitness = 1.000000, inlier_rmse = 0.000000, and correspondence_set size of 30379\n",
      "Access transformation to get result.\n",
      "Apply point-to-point ICP\n",
      "registration::RegistrationResult with fitness = 1.000000, inlier_rmse = 0.000000, and correspondence_set size of 30379\n",
      "Access transformation to get result.\n",
      "Transformation is:\n",
      "[[ 1.00000000e+00 -5.55111512e-17  4.16333634e-17  5.68353830e-18]\n",
      " [-8.32667268e-17  1.00000000e+00  1.11022302e-16 -1.80164581e-17]\n",
      " [ 4.16333634e-17  0.00000000e+00  1.00000000e+00 -2.77555756e-17]\n",
      " [ 0.00000000e+00  0.00000000e+00  0.00000000e+00  1.00000000e+00]]\n",
      "\n",
      "Local registration took 0.683 sec.\n",
      "\n",
      "0.0\n",
      "8.922199765492322e-12\n"
     ]
    }
   ],
   "source": [
    "start = time.time()\n",
    "\n",
    "A_ref = \"data/data_bunny.txt\"\n",
    "B_ref = \"data/data_bunny.txt\"\n",
    "\n",
    "T_iden = np.identity(4)\n",
    "\n",
    "p2p = icp(A_ref, B_ref, T_iden)\n",
    "\n",
    "A = loadPointCloud(A_ref)\n",
    "B = loadPointCloud(B_ref)\n",
    "\n",
    "print(\"Local registration took %.3f sec.\\n\" % (time.time() - start))\n",
    "\n",
    "distances, indices = compute_dist(A,B,Ti)\n",
    "print(np.sum(distances))\n",
    "\n",
    "\n",
    "distances, indices = compute_dist(A,B,p2p.transformation)\n",
    "print(np.sum(distances))\n"
   ]
  },
  {
   "cell_type": "code",
   "execution_count": 47,
   "metadata": {},
   "outputs": [
    {
     "name": "stdout",
     "output_type": "stream",
     "text": [
      "(30379, 3) (30379, 3)\n"
     ]
    }
   ],
   "source": [
    "corresp = np.asarray(p2p.correspondence_set)\n",
    "fit = np.asarray(p2p.fitness)\n",
    "\n",
    "\n",
    "\n",
    "print(A.shape, B.shape)"
   ]
  },
  {
   "cell_type": "code",
   "execution_count": null,
   "metadata": {},
   "outputs": [],
   "source": []
  }
 ],
 "metadata": {
  "anaconda-cloud": {},
  "kernelspec": {
   "display_name": "Python 3",
   "language": "python",
   "name": "python3"
  },
  "language_info": {
   "codemirror_mode": {
    "name": "ipython",
    "version": 3
   },
   "file_extension": ".py",
   "mimetype": "text/x-python",
   "name": "python",
   "nbconvert_exporter": "python",
   "pygments_lexer": "ipython3",
   "version": "3.6.6"
  }
 },
 "nbformat": 4,
 "nbformat_minor": 1
}
