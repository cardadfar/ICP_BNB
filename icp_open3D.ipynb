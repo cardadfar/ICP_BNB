{
 "cells": [
  {
   "cell_type": "code",
   "execution_count": 1,
   "metadata": {},
   "outputs": [],
   "source": [
    "import numpy as np\n",
    "import cvxpy as cp\n",
    "import heapdict\n",
    "from sklearn.neighbors import NearestNeighbors\n",
    "import matplotlib.pyplot as plt\n",
    "from mpl_toolkits.mplot3d import axes3d, Axes3D\n",
    "import time\n",
    "\n",
    "from pytransform3d.rotations import *\n",
    "\n",
    "import open3d as o3d\n",
    "import copy"
   ]
  },
  {
   "cell_type": "code",
   "execution_count": 2,
   "metadata": {},
   "outputs": [],
   "source": [
    "def pc_to_np(open3d_data):\n",
    "    return np.asarray(open3d_data.points)\n",
    "\n",
    "def np_to_pc(np_data):\n",
    "    pcd = o3d.geometry.PointCloud()\n",
    "    pcd.points = o3d.utility.Vector3dVector(np_data)\n",
    "    return pcd\n",
    "\n",
    "def rotation_matrix(euler):\n",
    "    R = np.identity(4)\n",
    "    R[0:3,0:3] = matrix_from_euler_xyz(euler)\n",
    "    return R\n",
    "\n",
    "def scale_matrix(euler):\n",
    "    S = np.identity(4)\n",
    "    S[0,0] = euler[0]\n",
    "    S[1,1] = euler[1]\n",
    "    S[2,2] = euler[2]\n",
    "    return S\n",
    "\n",
    "def translation_matrix(euler):\n",
    "    T = np.identity(4)\n",
    "    T[0,3] = euler[0]\n",
    "    T[1,3] = euler[1]\n",
    "    T[2,3] = euler[2]\n",
    "    return T"
   ]
  },
  {
   "cell_type": "code",
   "execution_count": 3,
   "metadata": {},
   "outputs": [],
   "source": [
    "def draw_registration_result(source, target, transformation):\n",
    "    source_temp = copy.deepcopy(source)\n",
    "    target_temp = copy.deepcopy(target)\n",
    "    source_temp.paint_uniform_color([1, 0.706, 0])\n",
    "    target_temp.paint_uniform_color([0, 0.651, 0.929])\n",
    "    source_temp.transform(transformation)\n",
    "    o3d.visualization.draw_geometries([source_temp, target_temp])\n",
    "\n",
    "def icp(source, target, T_init, threshold=0.8):\n",
    "    \n",
    "    evaluation = o3d.registration.evaluate_registration(source, target, threshold, T_init)\n",
    "\n",
    "    reg_p2p = o3d.registration.registration_icp(source, target, threshold, T_init, \n",
    "                                                o3d.registration.TransformationEstimationPointToPoint())\n",
    "    \n",
    "    return reg_p2p.transformation"
   ]
  },
  {
   "cell_type": "code",
   "execution_count": 4,
   "metadata": {},
   "outputs": [],
   "source": [
    "def compute_dist(src,tgt,T):\n",
    "    src_cpy = copy.deepcopy(src)\n",
    "    src_t = src_cpy.transform(T)\n",
    "    \n",
    "    src_np = pc_to_np(src_t)\n",
    "    tgt_np = pc_to_np(tgt)\n",
    "    \n",
    "    neigh = NearestNeighbors(n_neighbors=1)\n",
    "    neigh.fit(tgt_np)\n",
    "    distances, indices = neigh.kneighbors(src_np, return_distance=True)\n",
    "    return distances.ravel(), indices.ravel()"
   ]
  },
  {
   "cell_type": "code",
   "execution_count": 5,
   "metadata": {},
   "outputs": [
    {
     "name": "stdout",
     "output_type": "stream",
     "text": [
      "Initial: 7524.494612795406\n",
      "5972.435179087988\n",
      "5202.737079078364\n",
      "5165.013959576784\n",
      "5165.035973264468\n",
      "5165.019833079682\n",
      "Local registration took 17.533 sec.\n",
      "5165.019833079682\n",
      "Done.\n",
      "[[ 0.58505588  0.55155821  1.02151513  0.03037153]\n",
      " [-1.13843406  0.49658115  0.38389459 -0.07751173]\n",
      " [-0.22732688 -1.06732877  0.70649259 -0.34771775]\n",
      " [ 0.          0.          0.          1.        ]]\n"
     ]
    }
   ],
   "source": [
    "start = time.time()\n",
    "\n",
    "src_ref = \"data/model_bunny.txt\"\n",
    "tgt_ref = \"data/data_bunny.txt\"\n",
    "\n",
    "T_iden = np.identity(4)\n",
    "\n",
    "source = o3d.io.read_point_cloud(src_ref, format='xyz')\n",
    "target = o3d.io.read_point_cloud(tgt_ref, format='xyz')\n",
    "\n",
    "distances, indices = compute_dist(source,target,T_iden)\n",
    "print('Initial: ' + str(np.sum(distances)))\n",
    "\n",
    "source_vol = source.get_oriented_bounding_box().volume()\n",
    "target_vol = target.get_oriented_bounding_box().volume()\n",
    "source.scale(target_vol/source_vol)\n",
    "\n",
    "distances, indices = compute_dist(source,target,T_iden)\n",
    "\n",
    "s = source.compute_convex_hull()\n",
    "t = target.compute_convex_hull()\n",
    "source_hull = np_to_pc(np.asarray(s.vertices))\n",
    "target_hull = np_to_pc(np.asarray(t.vertices))\n",
    "\n",
    "src = source\n",
    "tgt = target\n",
    "\n",
    "\n",
    "p2p = np.identity(4)\n",
    "\n",
    "ratio = 1.3\n",
    "S = scale_matrix([ratio,ratio,ratio])\n",
    "p2p = np.dot(S,p2p)\n",
    "\n",
    "\n",
    "\n",
    "\n",
    "N = 5\n",
    "for i in range(N):\n",
    "    \n",
    "    p2p = icp(src, tgt, p2p, threshold=0.8)\n",
    "    distances, indices = compute_dist(src, tgt, p2p)\n",
    "    print(np.sum(distances))\n",
    "    \n",
    "    #if(i != N-1):\n",
    "        #R = rotation_matrix(np.random.rand(3))\n",
    "        #p2p = np.dot(R, p2p)\n",
    "        \n",
    "        #src_centroid = src.get_center()\n",
    "        #tgt_centroid = tgt.get_center()\n",
    "        #T = translation_matrix(tgt_centroid - src_centroid)\n",
    "        #p2p = np.dot(T, p2p)\n",
    "\n",
    "print(\"Local registration took %.3f sec.\" % (time.time() - start))\n",
    "\n",
    "\n",
    "distances, indices = compute_dist(source,target,p2p)\n",
    "print(np.sum(distances))\n",
    "\n",
    "print(\"Done.\")\n",
    "\n",
    "print(p2p)\n"
   ]
  },
  {
   "cell_type": "code",
   "execution_count": 6,
   "metadata": {},
   "outputs": [],
   "source": [
    "draw_registration_result(src,tgt,p2p)"
   ]
  },
  {
   "cell_type": "code",
   "execution_count": 9,
   "metadata": {},
   "outputs": [
    {
     "name": "stdout",
     "output_type": "stream",
     "text": [
      "4496.71913259495\n"
     ]
    }
   ],
   "source": [
    "src_vol = src.get_oriented_bounding_box().volume()\n",
    "tgt_vol = tgt.get_oriented_bounding_box().volume()\n",
    "\n",
    "p2p = np.identity(4)\n",
    "\n",
    "R = rotation_matrix([0,1.57,0])\n",
    "p2p = np.dot(R,p2p)\n",
    "\n",
    "ratio = 1.3\n",
    "S = scale_matrix([ratio,ratio,ratio])\n",
    "p2p = np.dot(S,p2p)\n",
    "\n",
    "T = translation_matrix([0.1,0.2,-0.1])\n",
    "p2p = np.dot(T,p2p)\n",
    "\n",
    "draw_registration_result(src,tgt,p2p)\n",
    "distances, indices = compute_dist(source,target,p2p)\n",
    "print(np.sum(distances))"
   ]
  },
  {
   "cell_type": "code",
   "execution_count": 74,
   "metadata": {},
   "outputs": [
    {
     "name": "stdout",
     "output_type": "stream",
     "text": [
      "5999.6275758902975\n",
      "5999.6275758902975\n"
     ]
    }
   ],
   "source": [
    "src = o3d.io.read_point_cloud(src_ref, format='xyz')\n",
    "tgt = o3d.io.read_point_cloud(tgt_ref, format='xyz')\n",
    "\n",
    "R1 = np.identity(4)\n",
    "p2p1 = icp(src, tgt, R1, threshold=0.8)\n",
    "dist, _ = compute_dist(src,tgt,p2p1)\n",
    "print(np.sum(dist))\n",
    "\n",
    "R2 = np.identity(4)\n",
    "p2p2 = icp(src, tgt, R2, threshold=0.8)\n",
    "dist, _ = compute_dist(src,tgt,p2p2)\n",
    "print(np.sum(dist))"
   ]
  },
  {
   "cell_type": "code",
   "execution_count": null,
   "metadata": {},
   "outputs": [],
   "source": []
  }
 ],
 "metadata": {
  "anaconda-cloud": {},
  "kernelspec": {
   "display_name": "Python 3",
   "language": "python",
   "name": "python3"
  },
  "language_info": {
   "codemirror_mode": {
    "name": "ipython",
    "version": 3
   },
   "file_extension": ".py",
   "mimetype": "text/x-python",
   "name": "python",
   "nbconvert_exporter": "python",
   "pygments_lexer": "ipython3",
   "version": "3.6.6"
  }
 },
 "nbformat": 4,
 "nbformat_minor": 1
}
