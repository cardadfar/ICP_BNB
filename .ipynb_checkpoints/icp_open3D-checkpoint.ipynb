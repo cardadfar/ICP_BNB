{
 "cells": [
  {
   "cell_type": "code",
   "execution_count": 61,
   "metadata": {},
   "outputs": [],
   "source": [
    "import numpy as np\n",
    "import cvxpy as cp\n",
    "import heapdict\n",
    "from sklearn.neighbors import NearestNeighbors\n",
    "import matplotlib.pyplot as plt\n",
    "from mpl_toolkits.mplot3d import axes3d, Axes3D\n",
    "import time\n",
    "\n",
    "from pytransform3d.rotations import *\n",
    "\n",
    "import open3d as o3d\n",
    "import copy"
   ]
  },
  {
   "cell_type": "code",
   "execution_count": 62,
   "metadata": {},
   "outputs": [],
   "source": [
    "def pc_to_np(open3d_data):\n",
    "    return np.asarray(open3d_data.points)\n",
    "\n",
    "def np_to_pc(np_data):\n",
    "    pcd = o3d.geometry.PointCloud()\n",
    "    pcd.points = o3d.utility.Vector3dVector(np_data)\n",
    "    return pcd\n",
    "\n",
    "def rotation_matrix(euler):\n",
    "    R = np.identity(4)\n",
    "    R[0:3,0:3] = matrix_from_euler_xyz(euler)\n",
    "    return R\n",
    "\n",
    "def translation_matrix(euler):\n",
    "    T = np.identity(4)\n",
    "    T[0,3] = euler[0]\n",
    "    T[1,3] = euler[1]\n",
    "    T[2,3] = euler[2]\n",
    "    return T"
   ]
  },
  {
   "cell_type": "code",
   "execution_count": 63,
   "metadata": {},
   "outputs": [],
   "source": [
    "def draw_registration_result(source, target, transformation):\n",
    "    source_temp = copy.deepcopy(source)\n",
    "    target_temp = copy.deepcopy(target)\n",
    "    source_temp.paint_uniform_color([1, 0.706, 0])\n",
    "    target_temp.paint_uniform_color([0, 0.651, 0.929])\n",
    "    source_temp.transform(transformation)\n",
    "    o3d.visualization.draw_geometries([source_temp, target_temp])\n",
    "\n",
    "def icp(source, target, T_init, threshold=0.8):\n",
    "    \n",
    "    evaluation = o3d.registration.evaluate_registration(source, target, threshold, T_init)\n",
    "\n",
    "    reg_p2p = o3d.registration.registration_icp(source, target, threshold, T_init, \n",
    "                                                o3d.registration.TransformationEstimationPointToPoint())\n",
    "    \n",
    "    return reg_p2p.transformation"
   ]
  },
  {
   "cell_type": "code",
   "execution_count": 73,
   "metadata": {},
   "outputs": [],
   "source": [
    "def compute_dist(src,tgt,T):\n",
    "    src_cpy = copy.deepcopy(src)\n",
    "    src_t = src_cpy.transform(T)\n",
    "    \n",
    "    src_np = pc_to_np(src_t)\n",
    "    tgt_np = pc_to_np(tgt)\n",
    "    \n",
    "    neigh = NearestNeighbors(n_neighbors=1)\n",
    "    neigh.fit(tgt_np)\n",
    "    distances, indices = neigh.kneighbors(src_np, return_distance=True)\n",
    "    return distances.ravel(), indices.ravel()"
   ]
  },
  {
   "cell_type": "code",
   "execution_count": 88,
   "metadata": {},
   "outputs": [
    {
     "name": "stdout",
     "output_type": "stream",
     "text": [
      "Initial: 7524.494612795406\n",
      "3811.2255079584465\n",
      "3784.380806253077\n",
      "3783.8976573264613\n",
      "3783.9491680245474\n",
      "3783.983015205393\n",
      "3783.9549853506714\n",
      "3783.9625369665555\n",
      "3783.9625870342575\n",
      "3784.0174457020694\n",
      "3784.029688257862\n",
      "Local registration took 17.699 sec.\n",
      "3784.029688257862\n",
      "Done.\n",
      "[[ 0.43016446  0.87028178  0.23993364  0.12417775]\n",
      " [-0.87244323  0.33248158  0.35818824 -0.2046849 ]\n",
      " [ 0.23195118 -0.36340833  0.90229321  0.0477228 ]\n",
      " [ 0.          0.          0.          1.        ]]\n"
     ]
    }
   ],
   "source": [
    "start = time.time()\n",
    "\n",
    "src_ref = \"data/model_bunny.txt\"\n",
    "tgt_ref = \"data/data_bunny.txt\"\n",
    "\n",
    "T_iden = np.identity(4)\n",
    "\n",
    "source = o3d.io.read_point_cloud(src_ref, format='xyz')\n",
    "target = o3d.io.read_point_cloud(tgt_ref, format='xyz')\n",
    "\n",
    "distances, indices = compute_dist(source,target,T_iden)\n",
    "print('Initial: ' + str(np.sum(distances)))\n",
    "\n",
    "source_vol = source.get_oriented_bounding_box().volume()\n",
    "target_vol = target.get_oriented_bounding_box().volume()\n",
    "source.scale(target_vol/source_vol)\n",
    "\n",
    "distances, indices = compute_dist(source,target,T_iden)\n",
    "\n",
    "s = source.compute_convex_hull()\n",
    "t = target.compute_convex_hull()\n",
    "source_hull = np_to_pc(np.asarray(s.vertices))\n",
    "target_hull = np_to_pc(np.asarray(t.vertices))\n",
    "\n",
    "src = source\n",
    "tgt = target\n",
    "\n",
    "\n",
    "\n",
    "#p2p = icp(source_hull, target_hull, T_iden)\n",
    "p2p = rotation_matrix(np.random.rand(3))\n",
    "\n",
    "N = 10\n",
    "for i in range(N):\n",
    "    \n",
    "    p2p = icp(src, tgt, p2p, threshold=0.8)\n",
    "    distances, indices = compute_dist(src, tgt, p2p)\n",
    "    print(np.sum(distances))\n",
    "    \n",
    "    #if(i != N-1):\n",
    "        #R = rotation_matrix(np.random.rand(3))\n",
    "        #p2p = np.dot(R, p2p)\n",
    "        \n",
    "        #src_centroid = src.get_center()\n",
    "        #tgt_centroid = tgt.get_center()\n",
    "        #T = translation_matrix(tgt_centroid - src_centroid)\n",
    "        #p2p = np.dot(T, p2p)\n",
    "\n",
    "print(\"Local registration took %.3f sec.\" % (time.time() - start))\n",
    "\n",
    "\n",
    "distances, indices = compute_dist(source,target,p2p)\n",
    "print(np.sum(distances))\n",
    "\n",
    "print(\"Done.\")\n",
    "\n",
    "print(p2p)\n"
   ]
  },
  {
   "cell_type": "code",
   "execution_count": null,
   "metadata": {},
   "outputs": [],
   "source": [
    "[[ 0.43163518  0.87012875  0.23783825  0.1241126 ]\n",
    " [-0.87146054  0.33416416  0.35901371 -0.20435219]\n",
    " [ 0.23291113 -0.36222959  0.90251988  0.0479819 ]\n",
    " [ 0.          0.          0.          1.        ]]"
   ]
  },
  {
   "cell_type": "code",
   "execution_count": 93,
   "metadata": {},
   "outputs": [],
   "source": [
    "R = rotation_matrix([0,0,0])\n",
    "draw_registration_result(src,tgt,R)"
   ]
  },
  {
   "cell_type": "code",
   "execution_count": 74,
   "metadata": {},
   "outputs": [
    {
     "name": "stdout",
     "output_type": "stream",
     "text": [
      "5999.6275758902975\n",
      "5999.6275758902975\n"
     ]
    }
   ],
   "source": [
    "src = o3d.io.read_point_cloud(src_ref, format='xyz')\n",
    "tgt = o3d.io.read_point_cloud(tgt_ref, format='xyz')\n",
    "\n",
    "R1 = np.identity(4)\n",
    "p2p1 = icp(src, tgt, R1, threshold=0.8)\n",
    "dist, _ = compute_dist(src,tgt,p2p1)\n",
    "print(np.sum(dist))\n",
    "\n",
    "R2 = np.identity(4)\n",
    "p2p2 = icp(src, tgt, R2, threshold=0.8)\n",
    "dist, _ = compute_dist(src,tgt,p2p2)\n",
    "print(np.sum(dist))"
   ]
  },
  {
   "cell_type": "code",
   "execution_count": null,
   "metadata": {},
   "outputs": [],
   "source": []
  }
 ],
 "metadata": {
  "anaconda-cloud": {},
  "kernelspec": {
   "display_name": "Python 3",
   "language": "python",
   "name": "python3"
  },
  "language_info": {
   "codemirror_mode": {
    "name": "ipython",
    "version": 3
   },
   "file_extension": ".py",
   "mimetype": "text/x-python",
   "name": "python",
   "nbconvert_exporter": "python",
   "pygments_lexer": "ipython3",
   "version": "3.6.6"
  }
 },
 "nbformat": 4,
 "nbformat_minor": 1
}
